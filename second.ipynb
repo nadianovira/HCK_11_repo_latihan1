{
 "cells": [
  {
   "cell_type": "code",
   "execution_count": 3,
   "metadata": {},
   "outputs": [
    {
     "name": "stdout",
     "output_type": "stream",
     "text": [
      "tes rumah\n"
     ]
    }
   ],
   "source": [
    "print('tes rumah')\n"
   ]
  },
  {
   "cell_type": "code",
   "execution_count": 12,
   "metadata": {},
   "outputs": [
    {
     "name": "stdout",
     "output_type": "stream",
     "text": [
      "jakarta\n",
      "7\n"
     ]
    }
   ],
   "source": [
    "namakota = ['jakarta', 'bandung', 'jogja']\n",
    "print (namakota[0])\n",
    "print (len(namakota[0]))\n",
    "\n"
   ]
  },
  {
   "cell_type": "code",
   "execution_count": 13,
   "metadata": {},
   "outputs": [
    {
     "name": "stdout",
     "output_type": "stream",
     "text": [
      "[1995, 1997, 1999, 2001]\n",
      "[1995, 1997, 1999, 2001]\n",
      "-----\n",
      "[1989, 1997, 1999, 2001]\n",
      "[1989, 1997, 1999, 2001]\n"
     ]
    }
   ],
   "source": [
    "listnumber = [1995, 1997, 1999, 2001]\n",
    "numbers = listnumber    \n",
    "print(listnumber)\n",
    "print(numbers)\n",
    "print('-----')\n",
    "\n",
    "numbers[0] = 1989\n",
    "print(listnumber)\n",
    "print(numbers)\n"
   ]
  },
  {
   "cell_type": "markdown",
   "metadata": {},
   "source": [
    "cara supaya tidak ikutan berubah"
   ]
  },
  {
   "cell_type": "code",
   "execution_count": 14,
   "metadata": {},
   "outputs": [
    {
     "name": "stdout",
     "output_type": "stream",
     "text": [
      "[1995, 1997, 1999, 2001]\n",
      "[1995, 1997, 1999, 2001]\n",
      "-----\n",
      "[1995, 1997, 1999, 2001]\n",
      "[1989, 1997, 1999, 2001]\n"
     ]
    }
   ],
   "source": [
    "listnumber = [1995, 1997, 1999, 2001]\n",
    "numbers = listnumber.copy()  \n",
    "print(listnumber)\n",
    "print(numbers)\n",
    "print('-----')\n",
    "\n",
    "numbers[0] = 1989\n",
    "print(listnumber)\n",
    "print(numbers)\n"
   ]
  }
 ],
 "metadata": {
  "kernelspec": {
   "display_name": "base",
   "language": "python",
   "name": "python3"
  },
  "language_info": {
   "codemirror_mode": {
    "name": "ipython",
    "version": 3
   },
   "file_extension": ".py",
   "mimetype": "text/x-python",
   "name": "python",
   "nbconvert_exporter": "python",
   "pygments_lexer": "ipython3",
   "version": "3.11.5"
  }
 },
 "nbformat": 4,
 "nbformat_minor": 2
}
