{
 "cells": [
  {
   "cell_type": "markdown",
   "metadata": {},
   "source": [
    "customer_id = ['B818', 'A461', 'A092', 'A082', 'B341', 'A005', 'A092', 'A461','B219', 'B904', 'A901', 'A083', 'B904', 'A092', 'B341', 'B821','B341', 'B821', 'B904', 'B818', 'A901', 'A083', 'B818', 'A082','B219', 'B219', 'A083', 'A901', 'A082', 'B341', 'B341', 'A083','A082', 'B219', 'B439', 'A461', 'A005', 'A901', 'B341', 'A082','A083', 'A461', 'A083', 'A901', 'A461', 'A083', 'A082', 'A083','B341', 'A901', 'A082', 'A461', 'B219', 'A083', 'B818', 'B821','A092', 'B341', 'A461', 'A092', 'A083', 'B821', 'A092']"
   ]
  },
  {
   "cell_type": "code",
   "execution_count": 17,
   "metadata": {},
   "outputs": [
    {
     "name": "stdout",
     "output_type": "stream",
     "text": [
      "{'B904', 'A901', 'B821', 'A092', 'B219', 'A005', 'A083', 'A082', 'B818', 'B341', 'A461', 'B439'}\n",
      "12\n"
     ]
    }
   ],
   "source": [
    "customer_id = ['B818', 'A461', 'A092', 'A082', 'B341', 'A005', 'A092', 'A461','B219', 'B904', 'A901', 'A083', 'B904', 'A092', 'B341', 'B821','B341', 'B821', 'B904', 'B818', 'A901', 'A083', 'B818', 'A082','B219', 'B219', 'A083', 'A901', 'A082', 'B341', 'B341', 'A083','A082', 'B219', 'B439', 'A461', 'A005', 'A901', 'B341', 'A082','A083', 'A461', 'A083', 'A901', 'A461', 'A083', 'A082', 'A083','B341', 'A901', 'A082', 'A461', 'B219', 'A083', 'B818', 'B821','A092', 'B341', 'A461', 'A092', 'A083', 'B821', 'A092']\n",
    "uniquecust_id = set(customer_id)\n",
    "\n",
    "print (set(customer_id))\n",
    "print (len(uniquecust_id))"
   ]
  },
  {
   "cell_type": "markdown",
   "metadata": {},
   "source": [
    "Task #2\n",
    "Given list of:Data = [1, 4, 9, 16, 25, 36, 49,  64, 81, 100]\n",
    "Use indexing so you can get this output:\n",
    "a.16\n",
    "b.[36, 49, 64, 81]\n",
    "c.[100, 81, 64, 49, 36, 25, 16, 9, 4, 1]\n"
   ]
  },
  {
   "cell_type": "code",
   "execution_count": 32,
   "metadata": {},
   "outputs": [
    {
     "name": "stdout",
     "output_type": "stream",
     "text": [
      "16\n",
      "[36, 49]\n",
      "[100, 81, 64, 49, 36, 25, 16, 9, 4, 1]\n",
      "[100, 81, 64, 49, 36, 25, 16, 9, 4, 1]\n"
     ]
    }
   ],
   "source": [
    "Data = [1, 4, 9, 16, 25, 36, 49, 64, 81, 100]\n",
    "print (Data[3])\n",
    "\n",
    "print (Data[5:7])\n",
    "\n",
    "print (Data[::-1])\n",
    "\n",
    "Data.reverse()\n",
    "print (Data)\n"
   ]
  },
  {
   "cell_type": "markdown",
   "metadata": {},
   "source": [
    "provinsi = {'Nanggroe Aceh Darussalam': 'Aceh','Sumatera Selatan': 'Palembang','Kalimantan Barat': 'Pontianak','Jawa Timur': 'Madiun','Sulawesi Selatan': 'Makassar','Maluku': 'Ambon'}\n",
    "\n",
    "What python command can be use to:a.Get list of keys available in dictionaryb.Change 'Jawa Timur' value from 'Madiun'  to 'Surabaya'6\n"
   ]
  },
  {
   "cell_type": "code",
   "execution_count": 34,
   "metadata": {},
   "outputs": [
    {
     "name": "stdout",
     "output_type": "stream",
     "text": [
      "['Nanggroe Aceh Darussalam', 'Sumatera Selatan', 'Kalimantan Barat', 'Jawa Timur', 'Sulawesi Selatan', 'Maluku']\n",
      "Surabaya\n"
     ]
    }
   ],
   "source": [
    "provinsi = {'Nanggroe Aceh Darussalam': 'Aceh','Sumatera Selatan': 'Palembang','Kalimantan Barat': 'Pontianak','Jawa Timur': 'Madiun','Sulawesi Selatan': 'Makassar','Maluku': 'Ambon'}\n",
    "list_key = list(provinsi.keys())\n",
    "print (list_key)\n",
    "\n",
    "provinsi['Jawa Timur'] = 'Surabaya'\n",
    "print (provinsi['Jawa Timur'])\n"
   ]
  },
  {
   "cell_type": "code",
   "execution_count": 36,
   "metadata": {},
   "outputs": [
    {
     "name": "stdout",
     "output_type": "stream",
     "text": [
      "initial 1st dictionary {'nikhil': 1, 'vashu': 5, 'manjeet': 10, 'akshat': 15}\n",
      "{'nikhil': 1, 'vashu': 5, 'manjeet': 10, 'akash': 15}\n"
     ]
    }
   ],
   "source": [
    "# initialising dictionary\n",
    "ini_dict = {'nikhil': 1, 'vashu': 5,\n",
    "            'manjeet': 10, 'akshat': 15}\n",
    " \n",
    "# printing initial json\n",
    "print(\"initial 1st dictionary\", ini_dict)\n",
    " \n",
    "# changing keys of dictionary\n",
    "ini_dict['akash'] = ini_dict['akshat']\n",
    "del ini_dict['akshat']\n",
    "print (ini_dict)"
   ]
  }
 ],
 "metadata": {
  "kernelspec": {
   "display_name": "base",
   "language": "python",
   "name": "python3"
  },
  "language_info": {
   "codemirror_mode": {
    "name": "ipython",
    "version": 3
   },
   "file_extension": ".py",
   "mimetype": "text/x-python",
   "name": "python",
   "nbconvert_exporter": "python",
   "pygments_lexer": "ipython3",
   "version": "3.11.5"
  }
 },
 "nbformat": 4,
 "nbformat_minor": 2
}
